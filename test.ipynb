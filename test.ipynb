{
 "cells": [
  {
   "cell_type": "code",
   "execution_count": 1,
   "id": "2c9a535c",
   "metadata": {},
   "outputs": [],
   "source": [
    "import numpy as np"
   ]
  },
  {
   "cell_type": "code",
   "execution_count": 2,
   "id": "c4351b33",
   "metadata": {},
   "outputs": [],
   "source": [
    "def get_board_lines(board: np.ndarray):\n",
    "    rows = [row for row in board]  # 所有行\n",
    "    cols = [board[:, i] for i in range(board.shape[1])]  # 所有列\n",
    "    \n",
    "    # 所有斜对角（左上到右下）\n",
    "    diags = [board.diagonal(i) for i in range(-board.shape[0]+1, board.shape[1])]\n",
    "    \n",
    "    # 所有反斜对角（右上到左下）\n",
    "    anti_diags = [np.fliplr(board).diagonal(i) \n",
    "                for i in range(-board.shape[0]+1, board.shape[1])]\n",
    "    return rows + cols + diags + anti_diags"
   ]
  },
  {
   "cell_type": "code",
   "execution_count": 3,
   "id": "00bf882c",
   "metadata": {},
   "outputs": [
    {
     "name": "stdout",
     "output_type": "stream",
     "text": [
      "[[ 0  1  2  3]\n",
      " [ 4  5  6  7]\n",
      " [ 8  9 10 11]]\n",
      "['0123', '4567', '891011', '048', '159', '2610', '3711', '8', '49', '0510', '1611', '27', '3', '11', '710', '369', '258', '14', '0']\n"
     ]
    }
   ],
   "source": [
    "a = np.arange(12).reshape(3, 4)\n",
    "lines = [\"\".join(x.astype(str)) for x in get_board_lines(a)]\n",
    "\n",
    "print(a)\n",
    "print(lines)"
   ]
  },
  {
   "cell_type": "code",
   "execution_count": 10,
   "id": "6cbb29ca",
   "metadata": {},
   "outputs": [],
   "source": [
    "import re\n",
    "from enum import IntEnum\n",
    "\n",
    "class BoardPattern(IntEnum):\n",
    "    FIVE = 1\n",
    "    OPEN_FOUR = 2\n",
    "    BLOCKED_FOUR = 3\n",
    "    OPEN_THREE = 4\n",
    "    BLOCKED_THREE = 5\n",
    "    OPEN_TWO = 6\n",
    "\n",
    "def pattern2str(pattern: IntEnum):\n",
    "    dic = {\n",
    "        1:\"FIVE\",\n",
    "        2:\"OPEN_FOUR\",\n",
    "        3:\"BLOCKED_FOUR\",\n",
    "        4:\"OPEN_THREE\",\n",
    "        5:\"BLOCKED_THREE\",\n",
    "        6:\"OPEN_TWO\"\n",
    "    }\n",
    "    return dic[pattern]\n",
    "\n",
    "board_patterns = {\n",
    "    BoardPattern.FIVE: [\"11111\"],\n",
    "    BoardPattern.OPEN_FOUR: [\"011110\"],  # 活四：己方下一手必成五连\n",
    "    BoardPattern.BLOCKED_FOUR: [\n",
    "        \"01111(2|$)\",\n",
    "        \"(2|^)11110\",\n",
    "        \"0101110\",\n",
    "        \"0110110\",\n",
    "        \"0111010\",\n",
    "    ],  # 冲四的定义是：己方下一步可形成五连，但对手也只需一步可以立即阻止五连形成\n",
    "    BoardPattern.OPEN_THREE: [\"01110\", \"010110\", \"011010\"],\n",
    "    BoardPattern.BLOCKED_THREE: [\"(2|^)1110\", \"0111(2|$)\", \"(2|^)10110\", \"1101(2|$)\"],\n",
    "    BoardPattern.OPEN_TWO: [\"0110\"],\n",
    "}\n",
    "scores = {\n",
    "    BoardPattern.FIVE: 1e9,\n",
    "    BoardPattern.OPEN_FOUR: 10000,\n",
    "    BoardPattern.BLOCKED_FOUR: 1000,\n",
    "    BoardPattern.OPEN_THREE: 1000,\n",
    "    BoardPattern.BLOCKED_THREE: 100,\n",
    "    BoardPattern.OPEN_TWO: 100,\n",
    "}"
   ]
  },
  {
   "cell_type": "code",
   "execution_count": 18,
   "id": "ad258b2e",
   "metadata": {},
   "outputs": [
    {
     "name": "stdout",
     "output_type": "stream",
     "text": [
      "pattern BLOCKED_THREE match!\n"
     ]
    }
   ],
   "source": [
    "state = \"1110\"\n",
    "\n",
    "game_score = 0\n",
    "for pattern, regexs in board_patterns.items():\n",
    "    for regex in regexs:\n",
    "        if re.search(regex, state):\n",
    "            game_score += scores[pattern]\n",
    "            print(f\"pattern {pattern2str(pattern)} match!\")"
   ]
  }
 ],
 "metadata": {
  "kernelspec": {
   "display_name": "gomoku",
   "language": "python",
   "name": "python3"
  },
  "language_info": {
   "codemirror_mode": {
    "name": "ipython",
    "version": 3
   },
   "file_extension": ".py",
   "mimetype": "text/x-python",
   "name": "python",
   "nbconvert_exporter": "python",
   "pygments_lexer": "ipython3",
   "version": "3.12.11"
  }
 },
 "nbformat": 4,
 "nbformat_minor": 5
}
